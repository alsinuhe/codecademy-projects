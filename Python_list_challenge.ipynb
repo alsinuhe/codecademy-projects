{
 "cells": [
  {
   "cell_type": "markdown",
   "metadata": {},
   "source": [
    "# Len's slice\n",
    "You work at Len’s Slice, a new pizza joint in the neighborhood. You are going to use your knowledge of Python lists to organize some of your sales data."
   ]
  },
  {
   "cell_type": "markdown",
   "metadata": {},
   "source": [
    "## Make some pizzas\n",
    "To keep track of the kinds of pizzas you sell, create a list called toppings that holds the following:\n",
    "\n",
    "\"pepperoni\"\n",
    "\"pineapple\"\n",
    "\"cheese\"\n",
    "\"sausage\"\n",
    "\"olives\"\n",
    "\"anchovies\"\n",
    "\"mushrooms\""
   ]
  },
  {
   "cell_type": "code",
   "execution_count": 1,
   "metadata": {},
   "outputs": [],
   "source": [
    "toppings = ['pepperoni', 'pineapple', 'cheese', 'sausage', 'olives', 'anchovies', 'mushrooms']"
   ]
  },
  {
   "cell_type": "markdown",
   "metadata": {},
   "source": [
    "To keep track of how much each kind of pizza slice costs, create a list called prices that holds the following integer values:\n",
    "\n",
    "2,\n",
    "6,\n",
    "1,\n",
    "3,\n",
    "2,\n",
    "7,\n",
    "2"
   ]
  },
  {
   "cell_type": "code",
   "execution_count": 2,
   "metadata": {},
   "outputs": [],
   "source": [
    "prices = [2, 6, 1, 3, 2, 7, 2]"
   ]
  },
  {
   "cell_type": "markdown",
   "metadata": {},
   "source": [
    "Your boss wants you to do some research on $2 slices.\n",
    "\n",
    "Count the number of occurrences of 2 in the prices list, and store the result in a variable called num_two_dollar_slices. Print it out."
   ]
  },
  {
   "cell_type": "code",
   "execution_count": 3,
   "metadata": {},
   "outputs": [
    {
     "name": "stdout",
     "output_type": "stream",
     "text": [
      "3\n"
     ]
    }
   ],
   "source": [
    "num_two_dollar_slices = prices.count(2)\n",
    "print(num_two_dollar_slices)"
   ]
  },
  {
   "cell_type": "markdown",
   "metadata": {},
   "source": [
    "Find the length of the toppings list and store it in a variable called num_pizzas.\n",
    "Print the string We sell [num_pizzas] different kinds of pizza!, where [num_pizzas] represents the value of our variable num_pizzas."
   ]
  },
  {
   "cell_type": "code",
   "execution_count": 5,
   "metadata": {},
   "outputs": [
    {
     "name": "stdout",
     "output_type": "stream",
     "text": [
      "We sell 7 different kinds of pizza!\n"
     ]
    }
   ],
   "source": [
    "num_pizzas = len(toppings)\n",
    "print('We sell ' + str(num_pizzas) + ' different kinds of pizza!')"
   ]
  },
  {
   "cell_type": "markdown",
   "metadata": {},
   "source": [
    "Convert our toppings and prices lists into a two-dimensional list called pizza_and_prices that has the following associated values.\n",
    "\n",
    "Each sublist in pizza_and_prices should have one pizza topping and an associated price.\n",
    "For this project make sure the prices come before the topping name like so: [price, topping_name]"
   ]
  },
  {
   "cell_type": "code",
   "execution_count": 6,
   "metadata": {},
   "outputs": [
    {
     "name": "stdout",
     "output_type": "stream",
     "text": [
      "[(2, 'pepperoni'), (6, 'pineapple'), (1, 'cheese'), (3, 'sausage'), (2, 'olives'), (7, 'anchovies'), (2, 'mushrooms')]\n"
     ]
    }
   ],
   "source": [
    "pizza_and_prices = list(zip(prices, toppings))\n",
    "print(pizza_and_prices)"
   ]
  },
  {
   "cell_type": "markdown",
   "metadata": {},
   "source": [
    "## Sorting and Slicing Pizzas\n",
    "Sort pizza_and_prices so that the pizzas are in the order of increasing price (ascending)."
   ]
  },
  {
   "cell_type": "code",
   "execution_count": 7,
   "metadata": {},
   "outputs": [
    {
     "name": "stdout",
     "output_type": "stream",
     "text": [
      "[(1, 'cheese'), (2, 'mushrooms'), (2, 'olives'), (2, 'pepperoni'), (3, 'sausage'), (6, 'pineapple'), (7, 'anchovies')]\n"
     ]
    }
   ],
   "source": [
    "pizza_and_prices.sort()\n",
    "print(pizza_and_prices)"
   ]
  },
  {
   "cell_type": "markdown",
   "metadata": {},
   "source": [
    "Store the first element of pizza_and_prices in a variable called cheapest_pizza."
   ]
  },
  {
   "cell_type": "code",
   "execution_count": 8,
   "metadata": {},
   "outputs": [
    {
     "name": "stdout",
     "output_type": "stream",
     "text": [
      "(1, 'cheese')\n"
     ]
    }
   ],
   "source": [
    "cheapest_pizza = pizza_and_prices[0]\n",
    "print(cheapest_pizza)"
   ]
  },
  {
   "cell_type": "markdown",
   "metadata": {},
   "source": [
    "A man walks into the pizza store and shouts “I will have your MOST EXPENSIVE pizza!”\n",
    "\n",
    "Get the last item of the pizza_and_prices list and store it in a variable called priciest_pizza."
   ]
  },
  {
   "cell_type": "code",
   "execution_count": 9,
   "metadata": {},
   "outputs": [
    {
     "name": "stdout",
     "output_type": "stream",
     "text": [
      "(7, 'anchovies')\n"
     ]
    }
   ],
   "source": [
    "priciest_pizza = pizza_and_prices[-1]\n",
    "print(priciest_pizza)"
   ]
  },
  {
   "cell_type": "markdown",
   "metadata": {},
   "source": [
    "It looks like that was our last \"anchovies\" slice. Remove it from our pizza_and_prices list."
   ]
  },
  {
   "cell_type": "code",
   "execution_count": 10,
   "metadata": {},
   "outputs": [
    {
     "name": "stdout",
     "output_type": "stream",
     "text": [
      "[(1, 'cheese'), (2, 'mushrooms'), (2, 'olives'), (2, 'pepperoni'), (3, 'sausage'), (6, 'pineapple')]\n"
     ]
    }
   ],
   "source": [
    "pizza_and_prices.pop(-1)\n",
    "print(pizza_and_prices)"
   ]
  },
  {
   "cell_type": "markdown",
   "metadata": {},
   "source": [
    "Since there is no longer an \"anchovies\" pizza, you want to add a new topping called \"peppers\" to keep your customers excited about new toppings. Here is what your new topping looks like: [2.5 'peppers']\n",
    "Add the new peppers pizza topping to our list pizza_and_prices.\n",
    "\n",
    "Note: Make sure to position it relative to the rest of the sorted data in pizza_and_prices, otherwise our data will not be correctly sorted anymore!"
   ]
  },
  {
   "cell_type": "code",
   "execution_count": 11,
   "metadata": {},
   "outputs": [
    {
     "name": "stdout",
     "output_type": "stream",
     "text": [
      "[(1, 'cheese'), (2, 'mushrooms'), (2, 'olives'), (2, 'pepperoni'), (2.5, 'peppers'), (3, 'sausage'), (6, 'pineapple')]\n"
     ]
    }
   ],
   "source": [
    "new_pizza_prices = pizza_and_prices + [(2.5, 'peppers')]\n",
    "new_pizza_prices.sort()\n",
    "print(new_pizza_prices)"
   ]
  },
  {
   "cell_type": "markdown",
   "metadata": {},
   "source": [
    "Three mice walk into the store. They don’t have much money (they’re mice), but they do each want different pizzas.\n",
    "\n",
    "Slice the pizza_and_prices list and store the 3 lowest cost pizzas in a list called three_cheapest.\n",
    "\n",
    "Great job! The mice are very pleased and will be leaving you a 5-star review.\n",
    "\n",
    "Print the three_cheapest list."
   ]
  },
  {
   "cell_type": "code",
   "execution_count": 13,
   "metadata": {},
   "outputs": [
    {
     "name": "stdout",
     "output_type": "stream",
     "text": [
      "[(1, 'cheese'), (2, 'mushrooms'), (2, 'olives')]\n"
     ]
    }
   ],
   "source": [
    "three_cheapest = new_pizza_prices[0:3]\n",
    "print(three_cheapest)"
   ]
  },
  {
   "cell_type": "markdown",
   "metadata": {},
   "source": [
    "### The instructions are from the codecademy challenges "
   ]
  }
 ],
 "metadata": {
  "kernelspec": {
   "display_name": "Python 3",
   "language": "python",
   "name": "python3"
  },
  "language_info": {
   "codemirror_mode": {
    "name": "ipython",
    "version": 3
   },
   "file_extension": ".py",
   "mimetype": "text/x-python",
   "name": "python",
   "nbconvert_exporter": "python",
   "pygments_lexer": "ipython3",
   "version": "3.8.3"
  }
 },
 "nbformat": 4,
 "nbformat_minor": 4
}
