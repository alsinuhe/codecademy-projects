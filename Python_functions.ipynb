{
 "cells": [
  {
   "cell_type": "markdown",
   "metadata": {},
   "source": [
    "# Functions\n",
    "Getting Ready for Physics Class\n",
    "You are a physics teacher preparing for the upcoming semester. You want to provide your students with some functions that will help them calculate some fundamental physical properties."
   ]
  },
  {
   "cell_type": "markdown",
   "metadata": {},
   "source": [
    "## Values"
   ]
  },
  {
   "cell_type": "code",
   "execution_count": 1,
   "metadata": {},
   "outputs": [],
   "source": [
    "train_mass = 22680\n",
    "train_acceleration = 10\n",
    "train_distance = 100\n",
    "\n",
    "bomb_mass = 1"
   ]
  },
  {
   "cell_type": "markdown",
   "metadata": {},
   "source": [
    "## Turn up the temperature\n",
    "This function takes a temperature in Fahrenheit, and converts it to Celsius. It tell us that 100 degrees Fahrenheit are equal to 82.22 degrees Celsius."
   ]
  },
  {
   "cell_type": "code",
   "execution_count": 2,
   "metadata": {},
   "outputs": [
    {
     "name": "stdout",
     "output_type": "stream",
     "text": [
      "82.22222222222223\n"
     ]
    }
   ],
   "source": [
    "def f_to_c(f_temp):\n",
    "  return f_temp - 32 * 5/9\n",
    "\n",
    "f100_in_celsius = f_to_c(100)\n",
    "print(f100_in_celsius)"
   ]
  },
  {
   "cell_type": "markdown",
   "metadata": {},
   "source": [
    "This function does the opposite. O Degrees Celsius are equal to 32 degrees Fahrenheit. "
   ]
  },
  {
   "cell_type": "code",
   "execution_count": 3,
   "metadata": {},
   "outputs": [
    {
     "name": "stdout",
     "output_type": "stream",
     "text": [
      "32.0\n"
     ]
    }
   ],
   "source": [
    "def c_to_f(c_temp):\n",
    "  return c_temp * 9/5 +32\n",
    "c0_in_fahnrenheit = c_to_f(0)\n",
    "print(c0_in_fahnrenheit)"
   ]
  },
  {
   "cell_type": "markdown",
   "metadata": {},
   "source": [
    "## Use the force\n",
    "This function will return mass times acceleration, using the values from the beggining of the code."
   ]
  },
  {
   "cell_type": "code",
   "execution_count": 4,
   "metadata": {},
   "outputs": [
    {
     "name": "stdout",
     "output_type": "stream",
     "text": [
      "226800\n"
     ]
    }
   ],
   "source": [
    "def get_force(mass, acceleration):\n",
    "  return mass * acceleration\n",
    "\n",
    "train_force = get_force(train_mass, train_acceleration)\n",
    "print(train_force)"
   ]
  },
  {
   "cell_type": "code",
   "execution_count": 5,
   "metadata": {},
   "outputs": [
    {
     "name": "stdout",
     "output_type": "stream",
     "text": [
      "The GE train supplies 226800 Newtons of force.\n"
     ]
    }
   ],
   "source": [
    "print('The GE train supplies ' + str(train_force) + ' Newtons of force.')"
   ]
  },
  {
   "cell_type": "markdown",
   "metadata": {},
   "source": [
    "## Get energy\n",
    "This function will take the mass and c to calculate the energy. (c is a constant that is usually set to the speed of light, which is roughly 3 x 10^8.) "
   ]
  },
  {
   "cell_type": "code",
   "execution_count": 11,
   "metadata": {},
   "outputs": [
    {
     "name": "stdout",
     "output_type": "stream",
     "text": [
      "A 1kg bomb supplies 90000000000000000 Joules.\n"
     ]
    }
   ],
   "source": [
    "def get_energy(mass, c = 3*10**8):\n",
    "  return mass * c**2\n",
    "\n",
    "bom_energy = get_energy(bomb_mass)\n",
    "print('A 1kg bomb supplies ' + str(bom_energy) + ' Joules.')"
   ]
  },
  {
   "cell_type": "markdown",
   "metadata": {},
   "source": [
    "## Do the work\n",
    "This function takes in mass, acceleration, and distance. (Work is defined as force multiplied by distance."
   ]
  },
  {
   "cell_type": "code",
   "execution_count": 12,
   "metadata": {},
   "outputs": [
    {
     "name": "stdout",
     "output_type": "stream",
     "text": [
      "The GE train does 22680000 Joules of work over 100 meters.\n"
     ]
    }
   ],
   "source": [
    "def get_work(mass, acceleration, distance):\n",
    "  return get_force(mass, acceleration) * distance\n",
    "\n",
    "train_work = get_work(train_mass, train_acceleration, train_distance)\n",
    "\n",
    "print('The GE train does ' + str(train_work) + ' Joules of work over ' + str(train_distance) + ' meters.')"
   ]
  },
  {
   "cell_type": "markdown",
   "metadata": {},
   "source": [
    "## Reference\n",
    "I retrived the instructions to the project from codecademy, introduction to python."
   ]
  }
 ],
 "metadata": {
  "kernelspec": {
   "display_name": "Python 3",
   "language": "python",
   "name": "python3"
  },
  "language_info": {
   "codemirror_mode": {
    "name": "ipython",
    "version": 3
   },
   "file_extension": ".py",
   "mimetype": "text/x-python",
   "name": "python",
   "nbconvert_exporter": "python",
   "pygments_lexer": "ipython3",
   "version": "3.8.3"
  }
 },
 "nbformat": 4,
 "nbformat_minor": 4
}
