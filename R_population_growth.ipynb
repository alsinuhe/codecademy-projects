{
 "cells": [
  {
   "cell_type": "markdown",
   "metadata": {},
   "source": [
    "# Calculating Population Change Over Time with R\n",
    "You work at the UN in urban planning and are interested in tracking population growth across major metropolitan regions. You are hoping that by looking at historical population numbers that you can predict future growth and help your team make decisions about resourcing.\n",
    "\n",
    "Use what you’ve learned about the basics of R to calculate the population growth of Istanbul and create a short report."
   ]
  },
  {
   "cell_type": "code",
   "execution_count": 1,
   "metadata": {},
   "outputs": [],
   "source": [
    "calculate_annual_growth <- function(year_one,year_two,pop_y1, pop_y2,city) {\n",
    "  annual_growth <- (((pop_y2 - pop_y1) / pop_y1) * 100) / (year_two-year_one)\n",
    "  message <- paste(\"From\", year_one, \"to\", year_two, \"the population of\", city, \"grew by approximately\", annual_growth, \"% each year.\")\n",
    "  print(message)\n",
    "  return(annual_growth)\n",
    "}"
   ]
  },
  {
   "cell_type": "markdown",
   "metadata": {},
   "source": [
    "# Creating Variables\n",
    "Istanbul is the largest city in Turkey and the fifth largest city in the world. It has experienced enormous growth over the past 50 years and is one of the world’s 10 fastest growing metropolitan areas.\n",
    "\n",
    "While the program that we will write can be used with data from any city, we’ll start by using data from Istanbul and saving our data to variables. Using variables will allow us to swap out the data in the future.\n",
    "\n",
    "The following chart is an abbreviated list of the population size by year in Istanbul. Take a moment to read over the data — you will need to refer back to this chart as you complete certain tasks.\n",
    "\n",
    "Year,\tPopulation\n",
    "1927 = 691000,\n",
    "1950 = 983000,\n",
    "2000 = 8831800,\n",
    "2017 = 15029231"
   ]
  },
  {
   "cell_type": "markdown",
   "metadata": {},
   "source": [
    "Create the variable city_name and set it equal to \"Istanbul, Turkey\"."
   ]
  },
  {
   "cell_type": "code",
   "execution_count": 2,
   "metadata": {},
   "outputs": [],
   "source": [
    "city_name <- \"Instabul, Turkey\""
   ]
  },
  {
   "cell_type": "markdown",
   "metadata": {},
   "source": [
    "The dataset starts with the population value for the year 1927 and ends with 2017.\n",
    "\n",
    "Create the variable pop_year_one. In the chart, find the population value for 1927 and set it equal to the variable pop_year_one. Next, create the variable pop_year_two. Find the population for 2017 and set its value equal to the variable pop_year_two."
   ]
  },
  {
   "cell_type": "code",
   "execution_count": 4,
   "metadata": {},
   "outputs": [],
   "source": [
    "pop_year_one <- 691000\n",
    "pop_year_two <- 15029231"
   ]
  },
  {
   "cell_type": "markdown",
   "metadata": {},
   "source": [
    "# Using Variables to Perform Calculations\n",
    "Using the variables that we just created, we’re going to write a script that allows us to calculate the annual percentage growth rate. The annual percentage growth rate is the amount in which the population changes each year during a certain period.\n",
    "\n",
    "First, create the variable pop_change. Calculate the difference in population between 2017 and 1927 and save the result to the variable pop_change. Feel free to print any of these variables if you want to check their values!"
   ]
  },
  {
   "cell_type": "code",
   "execution_count": 5,
   "metadata": {},
   "outputs": [],
   "source": [
    "pop_change <- pop_year_two - pop_year_one"
   ]
  },
  {
   "cell_type": "markdown",
   "metadata": {},
   "source": [
    "Before we calculate the annual percentage growth rate, we need to calculate the percentage growth rate. This is the percentage with which a population changes, but doesn’t account for period of time during which the change takes place.\n",
    "\n",
    "We can calculate percentage growth rate using the following formula: percentage_pr ,- ((pop_present - pop_past) / pop_past) * 100)"
   ]
  },
  {
   "cell_type": "code",
   "execution_count": 6,
   "metadata": {},
   "outputs": [],
   "source": [
    "percentage_gr <- ((pop_change / pop_year_one) * 100)"
   ]
  },
  {
   "cell_type": "markdown",
   "metadata": {},
   "source": [
    "Now that we have the percentage growth rate, we can calculate the annual percentage growth. Create a variable for annual_gr.\n",
    "\n",
    "To calculate the annual percentage growth, take the result of the variable percentage_gr and divide it by the number of years elapsed. Set the result equal to the variable annual_gr.\n",
    "Print the annual_gr by using the print() function."
   ]
  },
  {
   "cell_type": "code",
   "execution_count": 8,
   "metadata": {},
   "outputs": [
    {
     "name": "stdout",
     "output_type": "stream",
     "text": [
      "[1] 23.05553\n"
     ]
    }
   ],
   "source": [
    "annual_gr <- percentage_gr / (2017-1927)\n",
    "print(annual_gr)"
   ]
  },
  {
   "cell_type": "markdown",
   "metadata": {},
   "source": [
    "## Call the function with correct arguments\n",
    "You’ve coded the calculation from scratch! At the top of your notebook, we’ve included a function named calculate_annual_growth that prints a sentence explaining the change in population. With your new knowledge of calling functions, and your understanding of variables and arguments, call the function to print a summary.\n",
    "\n",
    "The calculate_annual_growth function takes five arguments:\n",
    "\n",
    "year_one,\n",
    "year_two,\n",
    "pop_y1,\n",
    "pop_y2,\n",
    "city\n",
    "Pass in the correct values for each one- remember you already turned a few of them into variables! The others you can pass as values. Note: The argument city just corresponds to the city name as a string.\n",
    "\n",
    "See the summary result that is printed as the result of the call!"
   ]
  },
  {
   "cell_type": "code",
   "execution_count": 10,
   "metadata": {},
   "outputs": [
    {
     "name": "stdout",
     "output_type": "stream",
     "text": [
      "[1] \"From 1927 to 2017 the population of Istambul, Turkey grew by approximately 23.0555250040199 % each year.\"\n"
     ]
    },
    {
     "data": {
      "text/html": [
       "23.0555250040199"
      ],
      "text/latex": [
       "23.0555250040199"
      ],
      "text/markdown": [
       "23.0555250040199"
      ],
      "text/plain": [
       "[1] 23.05553"
      ]
     },
     "metadata": {},
     "output_type": "display_data"
    }
   ],
   "source": [
    "calculate_annual_growth(1927, 2017,691000, 15029231, \"Istambul, Turkey\") "
   ]
  },
  {
   "cell_type": "markdown",
   "metadata": {},
   "source": [
    "### This is a project from the codecademy challenges"
   ]
  }
 ],
 "metadata": {
  "kernelspec": {
   "display_name": "R",
   "language": "R",
   "name": "ir"
  },
  "language_info": {
   "codemirror_mode": "r",
   "file_extension": ".r",
   "mimetype": "text/x-r-source",
   "name": "R",
   "pygments_lexer": "r",
   "version": "3.6.1"
  }
 },
 "nbformat": 4,
 "nbformat_minor": 4
}
